{
 "cells": [
  {
   "cell_type": "code",
   "execution_count": 4,
   "metadata": {},
   "outputs": [],
   "source": [
    "import numpy as np\n",
    "import pandas as pd\n",
    "import random\n",
    "from surprise import Dataset, Reader"
   ]
  },
  {
   "cell_type": "code",
   "execution_count": 5,
   "metadata": {},
   "outputs": [],
   "source": [
    "seed_constant = 27\n",
    "np.random.seed(seed_constant)\n",
    "random.seed(seed_constant)"
   ]
  },
  {
   "cell_type": "markdown",
   "metadata": {},
   "source": [
    "## Load data and model"
   ]
  },
  {
   "cell_type": "code",
   "execution_count": 6,
   "metadata": {},
   "outputs": [],
   "source": [
    "DATAPATH = \"../data/interim/\""
   ]
  },
  {
   "cell_type": "code",
   "execution_count": 7,
   "metadata": {},
   "outputs": [
    {
     "data": {
      "text/html": [
       "<div>\n",
       "<style scoped>\n",
       "    .dataframe tbody tr th:only-of-type {\n",
       "        vertical-align: middle;\n",
       "    }\n",
       "\n",
       "    .dataframe tbody tr th {\n",
       "        vertical-align: top;\n",
       "    }\n",
       "\n",
       "    .dataframe thead th {\n",
       "        text-align: right;\n",
       "    }\n",
       "</style>\n",
       "<table border=\"1\" class=\"dataframe\">\n",
       "  <thead>\n",
       "    <tr style=\"text-align: right;\">\n",
       "      <th></th>\n",
       "      <th>user_id</th>\n",
       "      <th>movie_title</th>\n",
       "      <th>rating</th>\n",
       "    </tr>\n",
       "  </thead>\n",
       "  <tbody>\n",
       "    <tr>\n",
       "      <th>0</th>\n",
       "      <td>880</td>\n",
       "      <td>Leaving Las Vegas (1995)</td>\n",
       "      <td>4.0</td>\n",
       "    </tr>\n",
       "    <tr>\n",
       "      <th>1</th>\n",
       "      <td>543</td>\n",
       "      <td>Courage Under Fire (1996)</td>\n",
       "      <td>3.0</td>\n",
       "    </tr>\n",
       "    <tr>\n",
       "      <th>2</th>\n",
       "      <td>393</td>\n",
       "      <td>Thin Blue Line, The (1988)</td>\n",
       "      <td>3.0</td>\n",
       "    </tr>\n",
       "    <tr>\n",
       "      <th>3</th>\n",
       "      <td>267</td>\n",
       "      <td>Supercop (1992)</td>\n",
       "      <td>5.0</td>\n",
       "    </tr>\n",
       "    <tr>\n",
       "      <th>4</th>\n",
       "      <td>297</td>\n",
       "      <td>My Fellow Americans (1996)</td>\n",
       "      <td>3.0</td>\n",
       "    </tr>\n",
       "  </tbody>\n",
       "</table>\n",
       "</div>"
      ],
      "text/plain": [
       "   user_id                 movie_title  rating\n",
       "0      880    Leaving Las Vegas (1995)     4.0\n",
       "1      543   Courage Under Fire (1996)     3.0\n",
       "2      393  Thin Blue Line, The (1988)     3.0\n",
       "3      267             Supercop (1992)     5.0\n",
       "4      297  My Fellow Americans (1996)     3.0"
      ]
     },
     "execution_count": 7,
     "metadata": {},
     "output_type": "execute_result"
    }
   ],
   "source": [
    "test = pd.read_csv(DATAPATH + 'test.csv')\n",
    "test.head()"
   ]
  },
  {
   "cell_type": "code",
   "execution_count": 8,
   "metadata": {},
   "outputs": [],
   "source": [
    "reader = Reader(rating_scale=(1, 5))\n",
    "testset = Dataset.load_from_df(test, reader)\n",
    "testset_full = testset.construct_testset(testset.raw_ratings)"
   ]
  },
  {
   "cell_type": "code",
   "execution_count": 15,
   "metadata": {},
   "outputs": [],
   "source": [
    "import pickle\n",
    "\n",
    "with open('../models/final_model.pkl', 'rb') as f:\n",
    "    classifier = pickle.load(f)"
   ]
  },
  {
   "cell_type": "markdown",
   "metadata": {},
   "source": [
    "## Load additional description data"
   ]
  },
  {
   "cell_type": "code",
   "execution_count": null,
   "metadata": {},
   "outputs": [],
   "source": [
    "DATAPATH = \"../data/raw/ml-100k/\"\n"
   ]
  },
  {
   "cell_type": "code",
   "execution_count": 69,
   "metadata": {},
   "outputs": [
    {
     "data": {
      "text/html": [
       "<div>\n",
       "<style scoped>\n",
       "    .dataframe tbody tr th:only-of-type {\n",
       "        vertical-align: middle;\n",
       "    }\n",
       "\n",
       "    .dataframe tbody tr th {\n",
       "        vertical-align: top;\n",
       "    }\n",
       "\n",
       "    .dataframe thead th {\n",
       "        text-align: right;\n",
       "    }\n",
       "</style>\n",
       "<table border=\"1\" class=\"dataframe\">\n",
       "  <thead>\n",
       "    <tr style=\"text-align: right;\">\n",
       "      <th></th>\n",
       "      <th>user_id</th>\n",
       "      <th>movie_id</th>\n",
       "      <th>rating</th>\n",
       "      <th>timestamp</th>\n",
       "    </tr>\n",
       "  </thead>\n",
       "  <tbody>\n",
       "    <tr>\n",
       "      <th>0</th>\n",
       "      <td>196</td>\n",
       "      <td>242</td>\n",
       "      <td>3</td>\n",
       "      <td>881250949</td>\n",
       "    </tr>\n",
       "    <tr>\n",
       "      <th>1</th>\n",
       "      <td>186</td>\n",
       "      <td>302</td>\n",
       "      <td>3</td>\n",
       "      <td>891717742</td>\n",
       "    </tr>\n",
       "    <tr>\n",
       "      <th>2</th>\n",
       "      <td>22</td>\n",
       "      <td>377</td>\n",
       "      <td>1</td>\n",
       "      <td>878887116</td>\n",
       "    </tr>\n",
       "    <tr>\n",
       "      <th>3</th>\n",
       "      <td>244</td>\n",
       "      <td>51</td>\n",
       "      <td>2</td>\n",
       "      <td>880606923</td>\n",
       "    </tr>\n",
       "    <tr>\n",
       "      <th>4</th>\n",
       "      <td>166</td>\n",
       "      <td>346</td>\n",
       "      <td>1</td>\n",
       "      <td>886397596</td>\n",
       "    </tr>\n",
       "  </tbody>\n",
       "</table>\n",
       "</div>"
      ],
      "text/plain": [
       "   user_id  movie_id  rating  timestamp\n",
       "0      196       242       3  881250949\n",
       "1      186       302       3  891717742\n",
       "2       22       377       1  878887116\n",
       "3      244        51       2  880606923\n",
       "4      166       346       1  886397596"
      ]
     },
     "execution_count": 69,
     "metadata": {},
     "output_type": "execute_result"
    }
   ],
   "source": [
    "#Load the Ratings data\n",
    "data = pd.read_csv(DATAPATH + 'u.data', sep=\"\\t\", header=None)\n",
    "data.columns = ['user_id', 'movie_id', 'rating', 'timestamp']\n",
    "data.head()"
   ]
  },
  {
   "cell_type": "code",
   "execution_count": 67,
   "metadata": {},
   "outputs": [],
   "source": [
    "genre = pd.read_csv(DATAPATH + 'u.genre', sep=\"|\", encoding='latin-1', header=None)\n",
    "genre.drop(genre.columns[1], axis=1, inplace=True)\n",
    "genre.columns = ['Genres']\n",
    "genre_list = list(genre['Genres'])\n",
    "\n",
    "columns = ['movie_id', 'movie_title' ,'release_date','video_release_date', 'IMDb_URL']\n",
    "columns.extend(genre_list)\n",
    "\n",
    "item = pd.read_csv(DATAPATH + 'u.item', sep=\"|\", encoding='latin-1', header=None)\n",
    "item.columns = columns"
   ]
  },
  {
   "cell_type": "code",
   "execution_count": 68,
   "metadata": {},
   "outputs": [
    {
     "data": {
      "text/html": [
       "<div>\n",
       "<style scoped>\n",
       "    .dataframe tbody tr th:only-of-type {\n",
       "        vertical-align: middle;\n",
       "    }\n",
       "\n",
       "    .dataframe tbody tr th {\n",
       "        vertical-align: top;\n",
       "    }\n",
       "\n",
       "    .dataframe thead th {\n",
       "        text-align: right;\n",
       "    }\n",
       "</style>\n",
       "<table border=\"1\" class=\"dataframe\">\n",
       "  <thead>\n",
       "    <tr style=\"text-align: right;\">\n",
       "      <th></th>\n",
       "      <th>movie_id</th>\n",
       "      <th>movie_title</th>\n",
       "      <th>release_date</th>\n",
       "      <th>IMDb_URL</th>\n",
       "      <th>genres</th>\n",
       "    </tr>\n",
       "  </thead>\n",
       "  <tbody>\n",
       "    <tr>\n",
       "      <th>0</th>\n",
       "      <td>1</td>\n",
       "      <td>Toy Story (1995)</td>\n",
       "      <td>01-Jan-1995</td>\n",
       "      <td>http://us.imdb.com/M/title-exact?Toy%20Story%2...</td>\n",
       "      <td>Animation|Children's|Comedy|</td>\n",
       "    </tr>\n",
       "    <tr>\n",
       "      <th>1</th>\n",
       "      <td>2</td>\n",
       "      <td>GoldenEye (1995)</td>\n",
       "      <td>01-Jan-1995</td>\n",
       "      <td>http://us.imdb.com/M/title-exact?GoldenEye%20(...</td>\n",
       "      <td>Action|Adventure|Thriller|</td>\n",
       "    </tr>\n",
       "    <tr>\n",
       "      <th>2</th>\n",
       "      <td>3</td>\n",
       "      <td>Four Rooms (1995)</td>\n",
       "      <td>01-Jan-1995</td>\n",
       "      <td>http://us.imdb.com/M/title-exact?Four%20Rooms%...</td>\n",
       "      <td>Thriller|</td>\n",
       "    </tr>\n",
       "    <tr>\n",
       "      <th>3</th>\n",
       "      <td>4</td>\n",
       "      <td>Get Shorty (1995)</td>\n",
       "      <td>01-Jan-1995</td>\n",
       "      <td>http://us.imdb.com/M/title-exact?Get%20Shorty%...</td>\n",
       "      <td>Action|Comedy|Drama|</td>\n",
       "    </tr>\n",
       "    <tr>\n",
       "      <th>4</th>\n",
       "      <td>5</td>\n",
       "      <td>Copycat (1995)</td>\n",
       "      <td>01-Jan-1995</td>\n",
       "      <td>http://us.imdb.com/M/title-exact?Copycat%20(1995)</td>\n",
       "      <td>Crime|Drama|Thriller|</td>\n",
       "    </tr>\n",
       "  </tbody>\n",
       "</table>\n",
       "</div>"
      ],
      "text/plain": [
       "   movie_id        movie_title release_date  \\\n",
       "0         1   Toy Story (1995)  01-Jan-1995   \n",
       "1         2   GoldenEye (1995)  01-Jan-1995   \n",
       "2         3  Four Rooms (1995)  01-Jan-1995   \n",
       "3         4  Get Shorty (1995)  01-Jan-1995   \n",
       "4         5     Copycat (1995)  01-Jan-1995   \n",
       "\n",
       "                                            IMDb_URL  \\\n",
       "0  http://us.imdb.com/M/title-exact?Toy%20Story%2...   \n",
       "1  http://us.imdb.com/M/title-exact?GoldenEye%20(...   \n",
       "2  http://us.imdb.com/M/title-exact?Four%20Rooms%...   \n",
       "3  http://us.imdb.com/M/title-exact?Get%20Shorty%...   \n",
       "4  http://us.imdb.com/M/title-exact?Copycat%20(1995)   \n",
       "\n",
       "                         genres  \n",
       "0  Animation|Children's|Comedy|  \n",
       "1    Action|Adventure|Thriller|  \n",
       "2                     Thriller|  \n",
       "3          Action|Comedy|Drama|  \n",
       "4         Crime|Drama|Thriller|  "
      ]
     },
     "execution_count": 68,
     "metadata": {},
     "output_type": "execute_result"
    }
   ],
   "source": [
    "def get_genre(row):\n",
    "    s = ''\n",
    "    for c in item.columns:\n",
    "        if row[c]==1 and c!='movie_id':\n",
    "            s += c + '|'\n",
    "    return s\n",
    "\n",
    "item['genres'] = item.apply(get_genre, axis=1)\n",
    "item = item.drop(['video_release_date'], axis=1)\n",
    "item = item.drop(genre_list, axis=1)\n",
    "item.head()"
   ]
  },
  {
   "cell_type": "markdown",
   "metadata": {},
   "source": [
    "## Get top predictions"
   ]
  },
  {
   "cell_type": "code",
   "execution_count": 71,
   "metadata": {},
   "outputs": [],
   "source": [
    "from collections import defaultdict\n",
    "\n",
    "\n",
    "def get_top_n(predictions, n=10):\n",
    "    # First map the predictions to each user.\n",
    "    top_n = defaultdict(list)\n",
    "    for uid, iid, true_r, est, _ in predictions:\n",
    "        top_n[uid].append((iid, est))\n",
    "\n",
    "    # Then sort the predictions for each user and retrieve the k highest ones.\n",
    "    for uid, user_ratings in top_n.items():\n",
    "        user_ratings.sort(key=lambda x: x[1], reverse=True)\n",
    "        top_n[uid] = user_ratings[:n]\n",
    "\n",
    "    return top_n"
   ]
  },
  {
   "cell_type": "code",
   "execution_count": 116,
   "metadata": {},
   "outputs": [],
   "source": [
    "def print_movies(movies):\n",
    "    for _, row  in movies.iterrows():\n",
    "        # movie_id, movie_title, release_date, IMDb_URL, genres\n",
    "        print('Title: {}, genres: {}'.format(row['movie_title'], row['genres']))"
   ]
  },
  {
   "cell_type": "code",
   "execution_count": 117,
   "metadata": {},
   "outputs": [],
   "source": [
    "def print_prediction(uid, user_ratings):\n",
    "    print('User id: {}'.format(uid))\n",
    "\n",
    "    temp = data[data['user_id'] == uid].sort_values(\"rating\", ascending = False)\n",
    "    best_movies = temp['movie_id'][:5]\n",
    "    user_history = item[item['movie_id'].isin(best_movies)]\n",
    "    print('Best user ratings: ')\n",
    "    print_movies(user_history)\n",
    "\n",
    "    print('Best recomendations: ')\n",
    "    predicted_movies = [title for (title, _) in user_ratings]\n",
    "    recommended_movies = item[item['movie_title'].isin(predicted_movies)]\n",
    "    print_movies(recommended_movies)"
   ]
  },
  {
   "cell_type": "code",
   "execution_count": 119,
   "metadata": {},
   "outputs": [
    {
     "name": "stdout",
     "output_type": "stream",
     "text": [
      "\n",
      "User id: 880\n",
      "Best user ratings: \n",
      "Title: Taxi Driver (1976), genres: Drama|Thriller|\n",
      "Title: Shawshank Redemption, The (1994), genres: Drama|\n",
      "Title: GoodFellas (1990), genres: Crime|Drama|\n",
      "Title: Sting, The (1973), genres: Comedy|Crime|\n",
      "Title: Wag the Dog (1997), genres: Comedy|Drama|\n",
      "Best recomendations: \n",
      "Title: Star Wars (1977), genres: Action|Adventure|Romance|Sci-Fi|War|\n",
      "Title: Empire Strikes Back, The (1980), genres: Action|Adventure|Drama|Romance|Sci-Fi|War|\n",
      "Title: Apocalypse Now (1979), genres: Drama|War|\n",
      "Title: Schindler's List (1993), genres: Drama|War|\n",
      "Title: Rear Window (1954), genres: Mystery|Thriller|\n",
      "\n",
      "User id: 543\n",
      "Best user ratings: \n",
      "Title: Usual Suspects, The (1995), genres: Crime|Thriller|\n",
      "Title: Citizen Kane (1941), genres: Drama|\n",
      "Title: Henry V (1989), genres: Drama|War|\n",
      "Title: Bridges of Madison County, The (1995), genres: Drama|Romance|\n",
      "Title: Rear Window (1954), genres: Mystery|Thriller|\n",
      "Best recomendations: \n",
      "Title: Citizen Kane (1941), genres: Drama|\n",
      "Title: Henry V (1989), genres: Drama|War|\n",
      "Title: Graduate, The (1967), genres: Drama|Romance|\n",
      "Title: Third Man, The (1949), genres: Mystery|Thriller|\n",
      "Title: Rear Window (1954), genres: Mystery|Thriller|\n",
      "\n",
      "User id: 393\n",
      "Best user ratings: \n",
      "Title: Mr. Smith Goes to Washington (1939), genres: Drama|\n",
      "Title: Empire Strikes Back, The (1980), genres: Action|Adventure|Drama|Romance|Sci-Fi|War|\n",
      "Title: Conspiracy Theory (1997), genres: Action|Mystery|Romance|Thriller|\n",
      "Title: Radioland Murders (1994), genres: Comedy|Mystery|Romance|\n",
      "Title: Bye Bye, Love (1995), genres: Comedy|\n",
      "Best recomendations: \n",
      "Title: Back to the Future (1985), genres: Comedy|Sci-Fi|\n",
      "Title: Gandhi (1982), genres: Drama|\n",
      "Title: Glory (1989), genres: Action|Drama|War|\n",
      "Title: Arsenic and Old Lace (1944), genres: Comedy|Mystery|Thriller|\n",
      "Title: American President, The (1995), genres: Comedy|Drama|Romance|\n"
     ]
    }
   ],
   "source": [
    "predictions = classifier.test(testset_full)\n",
    "top_n = get_top_n(predictions, n=5)\n",
    "\n",
    "# Print the recommended items for each user\n",
    "iterator = iter(top_n.items())\n",
    "for i in range(3):\n",
    "    uid, user_ratings = next(iterator)\n",
    "    print()\n",
    "    print_prediction(uid, user_ratings)"
   ]
  }
 ],
 "metadata": {
  "kernelspec": {
   "display_name": "Python 3",
   "language": "python",
   "name": "python3"
  },
  "language_info": {
   "codemirror_mode": {
    "name": "ipython",
    "version": 3
   },
   "file_extension": ".py",
   "mimetype": "text/x-python",
   "name": "python",
   "nbconvert_exporter": "python",
   "pygments_lexer": "ipython3",
   "version": "3.11.5"
  }
 },
 "nbformat": 4,
 "nbformat_minor": 2
}
